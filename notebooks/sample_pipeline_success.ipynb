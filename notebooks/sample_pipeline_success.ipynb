{
 "cells": [
  {
   "cell_type": "markdown",
   "id": "0",
   "metadata": {},
   "source": [
    "# Demonstrate successful run; i.e., data successfully validates"
   ]
  },
  {
   "cell_type": "code",
   "execution_count": null,
   "id": "1",
   "metadata": {},
   "outputs": [],
   "source": [
    "from src.data_lineage import initialize_run, start_run, complete_run, read_csv, to_csv, RunState\n",
    "from pathlib import Path\n",
    "import logging\n",
    "logging.basicConfig(level=logging.INFO)"
   ]
  },
  {
   "cell_type": "code",
   "execution_count": null,
   "id": "2",
   "metadata": {},
   "outputs": [],
   "source": [
    "# Initialize job and inputs using lineage/quality tooling\n",
    "\n",
    "job_name = 'sample_pipeline_success'  # Can be whatever you want, but notebook name is good\n",
    "run_id = initialize_run()  # Initialize run and receive run ID\n",
    "# Load CSVs: address all inputs, here\n",
    "sql_df = read_csv(run_id, '../data/raw/fake_demographics_valid.csv')\n",
    "\n",
    "start_run(job_name, run_id)"
   ]
  },
  {
   "cell_type": "code",
   "execution_count": null,
   "id": "3",
   "metadata": {},
   "outputs": [],
   "source": [
    "# Do other stuff\n",
    "output_df = sql_df"
   ]
  },
  {
   "cell_type": "code",
   "execution_count": null,
   "id": "4",
   "metadata": {},
   "outputs": [],
   "source": [
    "to_csv(run_id, Path('../data/curated/validated_demographics.csv'), output_df)\n",
    "complete_run(job_name, run_id)\n"
   ]
  },
  {
   "cell_type": "code",
   "execution_count": null,
   "id": "5",
   "metadata": {},
   "outputs": [],
   "source": [
    "output_df"
   ]
  },
  {
   "cell_type": "code",
   "id": "6",
   "metadata": {},
   "outputs": [],
   "source": []
  }
 ],
 "metadata": {
  "kernelspec": {
   "display_name": "Python 3",
   "language": "python",
   "name": "python3"
  },
  "language_info": {
   "codemirror_mode": {
    "name": "ipython",
    "version": 2
   },
   "file_extension": ".py",
   "mimetype": "text/x-python",
   "name": "python",
   "nbconvert_exporter": "python",
   "pygments_lexer": "ipython2",
   "version": "2.7.6"
  }
 },
 "nbformat": 4,
 "nbformat_minor": 5
}
